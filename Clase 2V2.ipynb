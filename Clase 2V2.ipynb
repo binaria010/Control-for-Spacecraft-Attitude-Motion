{
  "nbformat": 4,
  "nbformat_minor": 0,
  "metadata": {
    "colab": {
      "provenance": [],
      "authorship_tag": "ABX9TyO0KeldRQXBdJh2P22VYd9/",
      "include_colab_link": true
    },
    "kernelspec": {
      "name": "python3",
      "display_name": "Python 3"
    },
    "language_info": {
      "name": "python"
    }
  },
  "cells": [
    {
      "cell_type": "markdown",
      "metadata": {
        "id": "view-in-github",
        "colab_type": "text"
      },
      "source": [
        "<a href=\"https://colab.research.google.com/github/binaria010/Control-for-Spacecraft-Attitude-Motion/blob/master/Segunda%20Parte/MinimosCuadrados/Clase%202V2.ipynb\" target=\"_parent\"><img src=\"https://colab.research.google.com/assets/colab-badge.svg\" alt=\"Open In Colab\"/></a>"
      ]
    },
    {
      "cell_type": "markdown",
      "source": [
        "# Regresion lineal generalizada (o minimos cuadrados con pesos)\n",
        "\n",
        "Ahora vamos a resolver el problema de hacer ajustes mas generales. Es decir, para un conjunto de datos ajustar una funcion $f(x)$ no necesariamente lineal.\n",
        "\n",
        "La idea es transformar la variable $y$ (la que uno desea predecir) con una funcion $h$ de tal forma que $z = h(y)$ tenga una relacion lineal con $x$ (la variable predictora). \n",
        "\n",
        "Por ejemplo si \n",
        "\n",
        "* $f(x) = ke^{bx}$ entonces tomamos $h(y) = \\log(y)$ luego\n",
        "\n",
        "$$\n",
        "z = \\log(y) =\\log(f(x)) = \\log(ke^{bx}) = \\log(k) + bx\n",
        "$$\n",
        "\n",
        "y hacemos una regresion para los datos $(x, z)$\n",
        "\n",
        "\n",
        "Similarmente si \n",
        "\n",
        "* $f(x) = \\frac{1}{a + bx}$, entonces tomamos $h(y) = \\frac{1}{y}$ luego\n",
        "\n",
        "$$\n",
        "z = \\frac{1}{y} = \\frac{1}{f(x)} = a + bx\n",
        "$$\n",
        "\n",
        "y hacemos una regresion para los datos $(x, z)$ que nos da la función $g(x) = a + bx$ de esta nos interesan el valor de los coeficientes $a,b$ porque son los que necesitamos para armar nuestra función de ajuste pedida $f(x) = \\frac{1}{a + bx}$\n",
        "\n",
        "Podria ser necesario aplicar transformaciones a la variable predictora, por ejemplo:\n",
        "\n",
        "* $f(x) = ax^b$ entonces como $ax^b = e^{\\log(a) + b\\log(x)}$ tomamos como $h(y)= \\log(y)$ y tomamos como variable predictora $t = \\log(x)$ entonces tenemos la siguiente relacion lineal:\n",
        "\n",
        "$$\n",
        "z = \\log(y) = \\log(f(x)) = \\log(a) = b\\log(x) = \\log(a) + bt\n",
        "$$\n",
        "\n",
        "y hacemos una regresion lineal a los datos $(t, z)$ que nos da la función $g(t) = a + bt$ de esta nos interesan el valor de los coeficientes $a,b$ porque son los que necesitamos para armar nuestra función de ajuste pedida $f(x) = ax^b$\n",
        "\n",
        "\n",
        "\n",
        "En el caso que tenemos que transformar la variable $y$ mediante una funcion $h$ podemos hacer dos tipos de regresiones: una regresion comun y otra que sea con pesos $w_i = \\frac{1}{h'(y_i)^2}$"
      ],
      "metadata": {
        "id": "Yhz7tTo1IhL4"
      }
    },
    {
      "cell_type": "markdown",
      "source": [
        "## Ejercicio 1:\n",
        "\n",
        "Dados los datos\n",
        "<table>\n",
        "   <tr> \n",
        "  <td>$x$  </td>\n",
        "  <td>0.39</td>\n",
        "  <td>0.69</td>\n",
        "  <td>0.71</td>\n",
        "  <td>0.55</td>\n",
        "  <td>0.43</td>\n",
        "  <td>0.45</td>\n",
        "  <td>0.31</td>\n",
        "  <td>0.58</td>\n",
        "  <td>0.91</td>\n",
        "  <td>0.14</td>\n",
        "  </tr>\n",
        "  <tr>\n",
        "  <td> $y$ </td>\n",
        "  <td>0.85</td>\n",
        "  <td>0.56</td>\n",
        "  <td>0.55</td>\n",
        "  <td>0.51</td>\n",
        "  <td>0.76</td>\n",
        "  <td>0.72</td>\n",
        "  <td>1.3</td>\n",
        "  <td>0.67</td>\n",
        "  <td>0.43</td>\n",
        "  <td>2.04</td>    \n",
        "  </tr>\n",
        "  \n",
        "\n",
        "</table>\n",
        "\n",
        "\n",
        "\n",
        "Hacer un ajuste de la forma $f(x)= \\frac{1}{a + bx}$\n",
        "\n",
        "* Usando minimos cuadrados\n",
        "\n",
        "* Usando minimos cuadrados con pesos"
      ],
      "metadata": {
        "id": "43fdWfVNJjma"
      }
    },
    {
      "cell_type": "code",
      "source": [
        "import numpy as np\n",
        "import matplotlib.pyplot as plt\n",
        "import pandas as pd\n"
      ],
      "metadata": {
        "id": "VsgLFwT10Xbc"
      },
      "execution_count": 1,
      "outputs": []
    },
    {
      "cell_type": "code",
      "execution_count": 2,
      "metadata": {
        "colab": {
          "base_uri": "https://localhost:8080/",
          "height": 430
        },
        "id": "_IuEPfYdIgYy",
        "outputId": "f9acf484-cdea-4391-cb27-7c1c28969e67"
      },
      "outputs": [
        {
          "output_type": "display_data",
          "data": {
            "text/plain": [
              "<Figure size 640x480 with 1 Axes>"
            ],
            "image/png": "[encoded data removed]"
          },
          "metadata": {}
        }
      ],
      "source": [
        "x = np.array([0.39, 0.69, 0.71, 0.55, 0.43, 0.45, 0.31, 0.58, 0.91, 0.14])\n",
        "y = np.array([0.85, 0.56, 0.55, 0.51, 0.76, 0.72, 1.3, 0.67, 0.43, 2.04])\n",
        "\n",
        "plt.plot(x, y, \".\", label = \"datos\")\n",
        "plt.legend()\n",
        "plt.show()"
      ]
    },
    {
      "cell_type": "code",
      "source": [
        "def reglineal(x, y):\n",
        "\n",
        "  \"\"\"\n",
        "  Esta funcion calcula los coeficientes de una regresion lineal simple. Devuelve la funcion a + bx \n",
        "  Inputs:\n",
        "  x : numpy array dimension n\n",
        "  y : numpy array dimension n\n",
        "\n",
        "  Return:\n",
        "  f : poly1D: objeto polinomio de python. f es un polinomio de grado 1: alpha* +beta*x\n",
        "  \"\"\"\n",
        "  n = len(x)\n",
        "  X = np.ones((n,2))\n",
        "\n",
        "  X[:, 1] = x\n",
        "\n",
        "  coefs =  np.linalg.solve(X.T @ X, np.dot(X.T, y))\n",
        "\n",
        "  a = coefs[0]\n",
        "  b = coefs[1]\n",
        "\n",
        "  f = np.poly1d([b, a])\n",
        "\n",
        "  return f\n",
        "\n",
        "\n",
        "def reglinealPesos(x, y, w):\n",
        "\n",
        "  \"\"\"\n",
        "  devuelve la recta de regresion lineal pero teniendo en cuenta los pesos w_i de cada obs\n",
        "  \"\"\"\n",
        "\n",
        "  n = len(x)\n",
        "  W = np.diag(w)\n",
        "  X = np.ones((n,2))\n",
        "\n",
        "  X[:, 1] = x\n",
        "\n",
        "  coefs = np.linalg.solve(X.T @ W @ X, np.dot(X.T @ W, y))\n",
        "\n",
        "  a = coefs[0]\n",
        "  b = coefs[1]\n",
        "\n",
        "  f = np.poly1d([b, a]) \n",
        "\n",
        "  return f\n",
        "\n",
        "def error_regresion(f,x,y):\n",
        "  '''\n",
        "  PAra un ajuste f del consjunto de datos x,y esta funcion calcula el error en el ajuste osea S = sum_{i=1} ((y_i -f(x_i))^2)\n",
        "  '''\n",
        "\n",
        "  y_predicho = f(x)  # los y_1, ...y_n predicho por la funcion de ajuste f\n",
        "  error = 0.5*np.sum((y_predicho - y)**2)\n",
        "\n",
        "  return error\n"
      ],
      "metadata": {
        "id": "JA4_DNfdJ4rP"
      },
      "execution_count": 3,
      "outputs": []
    },
    {
      "cell_type": "code",
      "source": [
        "# reg lineal generalizada\n",
        "\n",
        "# calculo z:\n",
        "z = 1/y\n",
        "\n",
        "g = reglineal(x, z)  # esta es la funcion lineal que relaciona z con x pero queremos la f\n",
        "\n",
        "print(\"La funcion de ajuste lineal entre z, x es: \\n\", g)\n",
        "\n",
        " \n",
        "\n"
      ],
      "metadata": {
        "colab": {
          "base_uri": "https://localhost:8080/"
        },
        "id": "c3VHXRIk0UuH",
        "outputId": "b4005ca9-a8ef-4c99-c3d6-048800ac4db8"
      },
      "execution_count": 4,
      "outputs": [
        {
          "output_type": "stream",
          "name": "stdout",
          "text": [
            "La funcion de ajuste lineal entre z, x es: \n",
            "  \n",
            "2.378 x + 0.2251\n"
          ]
        }
      ]
    },
    {
      "cell_type": "markdown",
      "source": [
        "Hasta aca encontramos que $g(x) =a +bx= 0.2251 + 2.378x $ pero queremos la función de ajuste $f$ que relaciona $x$ con $y$. \n",
        "\n",
        "$$\n",
        "f(x) =\\frac{1}{a+bx} = \\frac{1}{0.2251 +2.378x}\n",
        "$$\n",
        "\n",
        "es la funcion pedida.\n"
      ],
      "metadata": {
        "id": "HgNWv9PHaOOx"
      }
    },
    {
      "cell_type": "code",
      "source": [
        "f = lambda x: 1/(0.2251 + 2.378*x)  # funcion que ajusta los datos (x_1,y_1),...,(x_n,y_n)\n",
        "\n",
        "\n",
        "grilla = np.linspace(0,1, 100)\n",
        "plt.plot(x, y, \".\", label = \"datos\")\n",
        "plt.plot(grilla, f(grilla), label = \"ajuste sin pesos\")\n",
        "plt.legend()\n",
        "plt.show()"
      ],
      "metadata": {
        "colab": {
          "base_uri": "https://localhost:8080/",
          "height": 430
        },
        "id": "hNKBTX7xaNmS",
        "outputId": "a48d0c09-aeac-450e-f0c8-b6a3c0de3d5e"
      },
      "execution_count": 5,
      "outputs": [
        {
          "output_type": "display_data",
          "data": {
            "text/plain": [
              "<Figure size 640x480 with 1 Axes>"
            ],
            "image/png": "[encoded data removed]"
          },
          "metadata": {}
        }
      ]
    },
    {
      "cell_type": "markdown",
      "source": [
        "Ahora hacemos un ajuste con pesos: es decir buscamos $a,b\\in R$ de tal forma que la función \n",
        "\n",
        "$$\n",
        "S(a,b) =\\frac{1}{2}\\sum_{i=1}^n w_i((y_i - f(x_i))^2)\n",
        "$$\n",
        "\n",
        "tome sus valor minimo. Con $f(x) = \\frac{1}{a+bx}$ y los pesos $w_i$ se calculan como dijimos antes:\n",
        "\n",
        "$$\n",
        "w_i = \\left(\\frac{1}{h'(y_i)}\\right)^2 \n",
        "$$\n",
        "siendo $h$ la funcion que transforma $y$ en $z$."
      ],
      "metadata": {
        "id": "9xbGBijLbRHL"
      }
    },
    {
      "cell_type": "code",
      "source": [
        "\n",
        "# Para calcular los pesos\n",
        "derh = lambda y: -1/y**2\n",
        "pesos = (1/derh(y))**2\n",
        "\n",
        "\n",
        "g_pesos = reglinealPesos(x, z, pesos)   # (es z NO y...) g_pesos es la relacion lineal es entre x y z\n",
        "\n",
        "print(\"La funcion de ajuste lineal entre x y z es :: \\n\", g_pesos)\n",
        "\n",
        "\n"
      ],
      "metadata": {
        "colab": {
          "base_uri": "https://localhost:8080/"
        },
        "id": "aUhXnBt64a3x",
        "outputId": "e9edb7f4-93fb-48b2-dec5-8df8f1fdb593"
      },
      "execution_count": 6,
      "outputs": [
        {
          "output_type": "stream",
          "name": "stdout",
          "text": [
            "La funcion de ajuste lineal entre x y z es :: \n",
            "  \n",
            "2.359 x + 0.1517\n"
          ]
        }
      ]
    },
    {
      "cell_type": "code",
      "source": [
        "#la funcion de ajuste de x e y es:\n",
        "\n",
        "f_pesos = lambda x: 1/(0.1517 + 2.359*x)\n",
        "\n",
        "\n",
        "\n",
        "plt.plot(x, y, \".\", label = \"datos\")\n",
        "plt.plot(grilla, f_pesos(grilla), label = \"ajuste con pesos\")\n",
        "plt.legend()\n",
        "plt.show()"
      ],
      "metadata": {
        "colab": {
          "base_uri": "https://localhost:8080/",
          "height": 430
        },
        "id": "pnUO9Yfdc2Bq",
        "outputId": "b4370e0c-4b6e-4781-fed9-8b0ba9c465e9"
      },
      "execution_count": 7,
      "outputs": [
        {
          "output_type": "display_data",
          "data": {
            "text/plain": [
              "<Figure size 640x480 with 1 Axes>"
            ],
            "image/png": "[encoded data removed]"
          },
          "metadata": {}
        }
      ]
    },
    {
      "cell_type": "code",
      "source": [
        "plt.figure(figsize = (20,6))\n",
        "\n",
        "plt.subplot(121)\n",
        "plt.plot(x, y, \".\", label = \"datos\")\n",
        "plt.plot(grilla, f(grilla), label = \"ajuste\")\n",
        "plt.title(\"minimos cuadrados\")\n",
        "plt.legend()\n",
        "\n",
        "plt.subplot(122)\n",
        "plt.plot(x, y, \".\", label = \"datos\")\n",
        "plt.plot(grilla, f_pesos(grilla), label = \"ajuste\")\n",
        "plt.title(\"minimos cuadrados con pesos\")\n",
        "plt.legend()\n",
        "\n",
        "\n",
        "plt.show()"
      ],
      "metadata": {
        "colab": {
          "base_uri": "https://localhost:8080/",
          "height": 409
        },
        "id": "IzXLDEsA5E_2",
        "outputId": "c0aa1b98-ab5e-452c-a3b0-482f5c6d892a"
      },
      "execution_count": 8,
      "outputs": [
        {
          "output_type": "display_data",
          "data": {
            "text/plain": [
              "<Figure size 2000x600 with 2 Axes>"
            ],
            "image/png": "[encoded data removed]"
          },
          "metadata": {}
        }
      ]
    },
    {
      "cell_type": "code",
      "source": [
        "error_sin_pesos = error_regresion(f, x, y)\n",
        "\n",
        "print(\"El error del ajuste sin pesos es: \", error_sin_pesos)\n",
        "\n",
        "\n",
        "error_regresion_generalizada = error_regresion(f_pesos, x, y)\n",
        "\n",
        "print(\"\\n\\nEl error del ajuste con pesos es: \", error_regresion_generalizada)"
      ],
      "metadata": {
        "colab": {
          "base_uri": "https://localhost:8080/"
        },
        "id": "T2ZkQ9QDrjv2",
        "outputId": "7f304e72-99ef-408c-a4c7-599f603cfeeb"
      },
      "execution_count": 9,
      "outputs": [
        {
          "output_type": "stream",
          "name": "stdout",
          "text": [
            "El error del ajuste sin pesos es:  0.07906918230184257\n",
            "\n",
            "\n",
            "El error del ajuste con pesos es:  0.04457995323532534\n"
          ]
        }
      ]
    },
    {
      "cell_type": "markdown",
      "source": [
        "## Ejercicio:  Agregamos dificultad!\n",
        "\n",
        "Hacer el ejercicio 10:\n",
        "\n",
        "## Ejercicio 10:\n",
        "\n",
        "En cierta especie animal se estudia la relacion entre el peso $X$ (en kgs) y el volumen pulmonar $Y$ (en litros), obteniendose los datos\n",
        "<center>\n",
        "\t<table>\n",
        "\t\t<tr>\n",
        "\t\t<td> peso (kgs)  </td>  \n",
        "    <td> 60 </td>  \n",
        "    <td> 85 </td>  \n",
        "    <td> 100 </td>  \n",
        "    <td> 150 </td>  \n",
        "    <td> 250 </td>\n",
        "\t\t</tr>\n",
        "    <tr>\n",
        "\t\t<td> vol. pulmonar (l) </td>  \n",
        "    <td> 2.3 </td>  \n",
        "    <td> 4 </td>  \n",
        "    <td> 5 </td>  \n",
        "    <td> 9 </td>  \n",
        "    <td> 19.5 </td>\n",
        "\t\t</tr>\n",
        "\t</table>\n",
        "</center>\n",
        "\n",
        "*  Ajustar los datos a una funcion $ Y = a X^b$ en el sentido de cuadrados minimos. Calcular el error cometido. \n",
        "\n",
        "*  Ajustar los datos a una funcion $ Y = a X^b$ en el sentido de cuadrados minimos generalizados. Calcular el error cometido y comparar. \n",
        "\n",
        "*  Graficar simultaneamente los datos de la tabla y las funciones obtenidas. \n",
        "\n",
        "\n",
        "\n",
        "Solucion:\n",
        "\n",
        "Notar que:\n",
        "$$\n",
        "y = ax^b = e^{\\log(a) + b\\log(x)} \n",
        "$$\n",
        "\n",
        "entonces aplicamos la transformacion $z = h(y)= \\log(y)$ y queda que:\n",
        "\n",
        "$$\n",
        "z = \\log(a) +b\\log(x) = \\log(a) + bt\n",
        "$$\n",
        "\n",
        "donde $t = \\log(x)$. Entonces los coefs de la reg lineal que relacionan $t$ con $z$  son: $\\alpha = \\log(a)$, $\\beta = b$ \n",
        "\n"
      ],
      "metadata": {
        "id": "llH3TfAp-OBJ"
      }
    },
    {
      "cell_type": "code",
      "source": [
        "x = np.array([60, 85, 100, 150, 250])\n",
        "y = np.array([2.3, 4, 5, 9, 19.5])\n",
        "\n",
        "# transformo y en z: h(y) = log(y) =z\n",
        "z = np.log(y)\n",
        "\n",
        "# transformo x en t: t = log(x)\n",
        "t = np.log(x)\n",
        "\n",
        "\n",
        "\n",
        "\n"
      ],
      "metadata": {
        "id": "b3ptXyqb5mit"
      },
      "execution_count": 10,
      "outputs": []
    },
    {
      "cell_type": "code",
      "source": [
        "# regresion lineal en variables (t,z) sin pesos:\n",
        "\n",
        "g = reglineal(t, z)\n",
        "\n",
        "print(g)"
      ],
      "metadata": {
        "id": "xdZOLA-T-7rh",
        "colab": {
          "base_uri": "https://localhost:8080/"
        },
        "outputId": "6d338e12-ea68-472f-fbb6-08838293eefd"
      },
      "execution_count": 11,
      "outputs": [
        {
          "output_type": "stream",
          "name": "stdout",
          "text": [
            " \n",
            "1.487 x - 5.242\n"
          ]
        }
      ]
    },
    {
      "cell_type": "markdown",
      "source": [
        "de esta expresion de la funcion $g$ vemos que $\\alpha = -5.242 =\\log(a)$ y que $\\beta = b = 1.487$ entonces la funcion $f$ de ajuste es: \n",
        "\n",
        "$$\n",
        "f(x) = ax^b = e^{-5.242}x^{1.487}\n",
        "$$"
      ],
      "metadata": {
        "id": "NFdN__7ifjOu"
      }
    },
    {
      "cell_type": "code",
      "source": [
        "# la funcion de ajuste f  =  ax^b es:\n",
        "\n",
        "f = lambda x: np.exp(-5.242+ (1.487)*np.log(x))    # tambien se puede definir asi: np.exp(g(np.log(x)))#\n",
        "\n",
        "# error es:\n",
        "\n",
        "error_sin_pesos = error_regresion(f,x,y)# error_regresion(f, x, y)\n",
        "\n",
        "print(\"El error en la regresion sin pesos es: \", error_sin_pesos)"
      ],
      "metadata": {
        "colab": {
          "base_uri": "https://localhost:8080/"
        },
        "id": "yZ9x0dGUfazz",
        "outputId": "dafae99f-effc-4b03-8bd0-1e115347584e"
      },
      "execution_count": 12,
      "outputs": [
        {
          "output_type": "stream",
          "name": "stdout",
          "text": [
            "El error en la regresion sin pesos es:  0.010713823069637335\n"
          ]
        }
      ]
    },
    {
      "cell_type": "markdown",
      "source": [
        "Como $h(y)=\\log(y)$ entonces $h'(y)=1/y$, luego $w_i = \\left(\\frac{1}{h'(y_i)}\\right)^2 = y_i^2$"
      ],
      "metadata": {
        "id": "4WBJpy4ugqf2"
      }
    },
    {
      "cell_type": "code",
      "source": [
        "# reg con pesos: h'(y)=1/y luego w_i = (1/h'(y_i))^2 = y_i^2\n",
        "\n",
        "pesos = y**2\n",
        "\n",
        "g_pesos = reglinealPesos(t, z, pesos)\n",
        "\n",
        "print(\"La funcion lineal obtenida que relaciona t con z es:  \", g_pesos, \"ojo que se debe entender como 1.49t -5.256\")"
      ],
      "metadata": {
        "id": "H8U8eigh-8lR",
        "colab": {
          "base_uri": "https://localhost:8080/"
        },
        "outputId": "fa07c728-072a-4c0a-e7ea-2ef04d40bd6c"
      },
      "execution_count": 13,
      "outputs": [
        {
          "output_type": "stream",
          "name": "stdout",
          "text": [
            "La funcion lineal obtenida que relaciona t con z es:    \n",
            "1.49 x - 5.256 ojo que se debe entender como 1.49t -5.256\n"
          ]
        }
      ]
    },
    {
      "cell_type": "code",
      "source": [
        "f_pesos = lambda x: np.exp(-5.256 + 1.49*np.log(x))   # tambien se puede definir asi: np.exp(g_pesos(np.log(x)))#\n",
        "\n",
        "# calcular el error\n",
        "\n",
        "error_con_pesos =  error_regresion(f_pesos, x, y)\n",
        "print(\"El error en la regresion con pesos es: \", error_con_pesos)"
      ],
      "metadata": {
        "colab": {
          "base_uri": "https://localhost:8080/"
        },
        "id": "ocMyUyIlg-kg",
        "outputId": "d8e4f143-fe98-40ec-c7c0-6548ce3d3586"
      },
      "execution_count": 14,
      "outputs": [
        {
          "output_type": "stream",
          "name": "stdout",
          "text": [
            "El error en la regresion con pesos es:  0.011177641555430405\n"
          ]
        }
      ]
    },
    {
      "cell_type": "code",
      "source": [
        "# Hacer un plot de ambas regresiones junto con los datos "
      ],
      "metadata": {
        "id": "lyKBWc4zWdj-"
      },
      "execution_count": 15,
      "outputs": []
    },
    {
      "cell_type": "markdown",
      "source": [
        "## Seguimos con regresion no lineal \n",
        "\n",
        "Ejemplo:\n",
        "\n",
        "Hallar una función de ajuste de la forma $f(x) =e^{a+bx^2}$ para los siguientes datos:\n",
        "\n",
        "$$\n",
        "\\begin{array} {l c c c c c c c c c c c c c c c}\n",
        "x & 0.84 &0.70 & 0.77 & 0.69 & 0.20 & 0.54 & 0.69 & 0.51 & 0.84 & 0.75 & 0.73 & 0.68 & 0.85 & 0.41 & 0.77\\\\\n",
        "y & 1.09 & 1.68 & 1.37 & 1.73 & 4.14 & 2.50 & 1.73 & 2.66 & 1.09 & 1.45 & 1.54 & 1.78 & 1.06 & 3.20 & 1.37\n",
        "\\end{array}\n",
        "$$"
      ],
      "metadata": {
        "id": "kLC55zAIS5nl"
      }
    },
    {
      "cell_type": "code",
      "source": [
        "# cargamos los datos \n",
        "x = np.array([0.84, 0.70, 0.77, 0.69, 0.20, 0.54, 0.69, 0.51, 0.84, 0.75, 0.73, 0.68, 0.85, 0.41, 0.77])\n",
        "y = np.array([0.75, 1.77, 1.02, 1.24, 4.53, 1.27, 1.00, 2.51, 0.57, 1.80, 2.10, 2.53, 0.90, 4.17, 1.17])\n"
      ],
      "metadata": {
        "id": "k2HpA85JTXLu"
      },
      "execution_count": 16,
      "outputs": []
    },
    {
      "cell_type": "code",
      "source": [
        "# regresion sin pesos:\n",
        "\n",
        "# transformo y en z: h(y) =log(y)=z\n",
        "\n",
        "z = np.log(y)\n",
        "\n",
        "#transformo x en t: t = x^2:\n",
        "\n",
        "t = x**2\n",
        "\n",
        "# hago la regresion lineal de t vs z:\n",
        "g = reglineal(t, z)\n",
        "\n",
        "print(\" la relacion lineal de t y z es: \", g)\n"
      ],
      "metadata": {
        "colab": {
          "base_uri": "https://localhost:8080/"
        },
        "id": "eTwBoHx8Uxiu",
        "outputId": "c5d0aecb-235c-4c30-8cf4-dcd166034587"
      },
      "execution_count": 17,
      "outputs": [
        {
          "output_type": "stream",
          "name": "stdout",
          "text": [
            " la relacion lineal de t y z es:   \n",
            "-2.505 x + 1.606\n"
          ]
        }
      ]
    },
    {
      "cell_type": "code",
      "source": [
        "f = lambda x: np.exp(1.606  -2.505*x**2)\n",
        "\n",
        "error_sin_pesos = error_regresion(f, x, y)\n",
        "\n",
        "print(\"El error en la regresion sin pesos es: \", error_sin_pesos)\n"
      ],
      "metadata": {
        "colab": {
          "base_uri": "https://localhost:8080/"
        },
        "id": "X9DNt-KFaJw6",
        "outputId": "714a3781-fed3-4d8a-f4f5-cdadbffecf7d"
      },
      "execution_count": 18,
      "outputs": [
        {
          "output_type": "stream",
          "name": "stdout",
          "text": [
            "El error en la regresion sin pesos es:  2.2645827060618617\n"
          ]
        }
      ]
    },
    {
      "cell_type": "code",
      "source": [
        "# regresion con pesos:\n",
        "\n",
        "# como h(y)= log(y), h'(y) = 1/y\n",
        "\n",
        "pesos = y**2\n",
        "\n",
        "g_pesos = reglinealPesos(t, z, pesos)\n",
        "\n",
        "print(\" la relacion lineal de t y z es: \", g_pesos)"
      ],
      "metadata": {
        "colab": {
          "base_uri": "https://localhost:8080/"
        },
        "id": "m9TGrKkyahKU",
        "outputId": "0f25e6ba-b0e2-4d06-f4f5-89061b58c32f"
      },
      "execution_count": 19,
      "outputs": [
        {
          "output_type": "stream",
          "name": "stdout",
          "text": [
            " la relacion lineal de t y z es:   \n",
            "-2.161 x + 1.648\n"
          ]
        }
      ]
    },
    {
      "cell_type": "code",
      "source": [
        "f_pesos = lambda x: np.exp( 1.648 - 2.161*x**2)\n",
        "\n",
        "error_con_pesos = error_regresion(f_pesos, x, y)\n",
        "\n",
        "print(\"El error en la regresion con pesos es: \", error_con_pesos)\n"
      ],
      "metadata": {
        "colab": {
          "base_uri": "https://localhost:8080/"
        },
        "id": "Wr63F8jDa2ag",
        "outputId": "3f26884c-341d-40cf-c27d-28f5457b1ecc"
      },
      "execution_count": 20,
      "outputs": [
        {
          "output_type": "stream",
          "name": "stdout",
          "text": [
            "El error en la regresion con pesos es:  2.6675867901166774\n"
          ]
        }
      ]
    },
    {
      "cell_type": "code",
      "source": [
        "grilla = np.linspace(0, 1, 100)\n",
        "\n",
        "\n",
        "plt.figure(figsize=(20, 6))\n",
        "\n",
        "plt.subplot(121)\n",
        "plt.plot(x, y, \".\", label = \"datos\")\n",
        "plt.plot(grilla, f(grilla), label = \"Ajuste\")\n",
        "plt.xlabel(\"x\")\n",
        "plt.ylabel(\"y\")\n",
        "plt.title(\"Ajuste sin pesos\")\n",
        "plt.legend()\n",
        "\n",
        "plt.subplot(122)\n",
        "plt.plot(x, y, \".\", label = \"datos\")\n",
        "plt.plot(grilla, f_pesos(grilla), label = \"Ajuste\")\n",
        "plt.xlabel(\"x\")\n",
        "plt.ylabel(\"y\")\n",
        "plt.title(\"Ajuste con pesos\")\n",
        "plt.legend()\n",
        "\n",
        "\n",
        "plt.show()\n"
      ],
      "metadata": {
        "colab": {
          "base_uri": "https://localhost:8080/",
          "height": 421
        },
        "id": "BHAe1ukVbTBN",
        "outputId": "9c1a8f6d-f6f8-4fe0-e586-6ebacebd07cd"
      },
      "execution_count": 21,
      "outputs": [
        {
          "output_type": "display_data",
          "data": {
            "text/plain": [
              "<Figure size 2000x600 with 2 Axes>"
            ],
            "image/png": "[encoded data removed]"
          },
          "metadata": {}
        }
      ]
    },
    {
      "cell_type": "markdown",
      "source": [
        "## Volvamos sobre el R2:\n",
        "\n",
        "$$R^2 = \\displaystyle\\frac{\\sum_{i=1}^n(\\hat{y}_i - \\bar{y})^2}{\\sum_{j=1}^n(y_j - y_j)^2}$$\n",
        "\n",
        "donde $\\hat{y_i} = f(x_i)$ el la predicción de $y_i$ usando la función de ajuste $f$."
      ],
      "metadata": {
        "id": "M72Ph5svJWQk"
      }
    },
    {
      "cell_type": "code",
      "source": [
        "def R2(f, x,y):\n",
        "\n",
        "  \"\"\"\n",
        "  Esta funcion calcula el r^2 de la regresion lineal dados los datos x, y\n",
        "  \"\"\"\n",
        "  \n",
        "  y_predicho = f(x)\n",
        "  avg_y = np.mean(y)\n",
        "\n",
        "  numerador = np.sum((y_predicho - y)**2)\n",
        "  denominador = np.sum((y - avg_y)**2)\n",
        "\n",
        "  return 1 - numerador/denominador"
      ],
      "metadata": {
        "id": "9vArc0vtvRAf"
      },
      "execution_count": 28,
      "outputs": []
    },
    {
      "cell_type": "markdown",
      "source": [
        "Calculemos el $R^2$ del problema anterior en ambos casos:\n",
        "\n",
        "\n",
        "Para el ajuste $f$ obtenido sin pesos:"
      ],
      "metadata": {
        "id": "N9yIIhhLJ4QJ"
      }
    },
    {
      "cell_type": "code",
      "source": [
        "R2_f = R2(f, x, y)\n",
        "\n",
        "print(\"El R2 para el ajuste sin pesos es: \", R2_f)"
      ],
      "metadata": {
        "colab": {
          "base_uri": "https://localhost:8080/"
        },
        "id": "lzaPx-sXJ3wI",
        "outputId": "d0b5871c-33ca-432c-9c06-bfcab6377efb"
      },
      "execution_count": 29,
      "outputs": [
        {
          "output_type": "stream",
          "name": "stdout",
          "text": [
            "El R2 para el ajuste sin pesos es:  0.7616580674164866\n"
          ]
        }
      ]
    },
    {
      "cell_type": "code",
      "source": [],
      "metadata": {
        "id": "MuE9_myHKoVd"
      },
      "execution_count": null,
      "outputs": []
    },
    {
      "cell_type": "markdown",
      "source": [
        "Para el ajuste $f$ obtenido con pesos:"
      ],
      "metadata": {
        "id": "vnBU2IOfKNy5"
      }
    },
    {
      "cell_type": "code",
      "source": [
        "R2_f_pesos = R2(f_pesos, x, y)\n",
        "\n",
        "print(\"El R2 para el ajuste con pesos es: \", R2_f_pesos)"
      ],
      "metadata": {
        "colab": {
          "base_uri": "https://localhost:8080/"
        },
        "id": "Y_UI7YF4KLq2",
        "outputId": "4f06e653-7607-4ebe-9ba3-2c3ac703073d"
      },
      "execution_count": null,
      "outputs": [
        {
          "output_type": "stream",
          "name": "stdout",
          "text": [
            "El R2 para el ajuste con pesos es:  0.8043824108465764\n"
          ]
        }
      ]
    },
    {
      "cell_type": "code",
      "source": [],
      "metadata": {
        "id": "oTKHSwOwKUss"
      },
      "execution_count": null,
      "outputs": []
    }
  ]
}
