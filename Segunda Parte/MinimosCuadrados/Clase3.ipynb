{
  "nbformat": 4,
  "nbformat_minor": 0,
  "metadata": {
    "colab": {
      "provenance": [],
      "authorship_tag": "ABX9TyMZPgvdfS5YzVspvlOyRYbm",
      "include_colab_link": true
    },
    "kernelspec": {
      "name": "python3",
      "display_name": "Python 3"
    },
    "language_info": {
      "name": "python"
    }
  },
  "cells": [
    {
      "cell_type": "markdown",
      "metadata": {
        "id": "view-in-github",
        "colab_type": "text"
      },
      "source": [
        "<a href=\"https://colab.research.google.com/github/binaria010/Control-for-Spacecraft-Attitude-Motion/blob/master/Segunda%20Parte/MinimosCuadrados/Clase3.ipynb\" target=\"_parent\"><img src=\"https://colab.research.google.com/assets/colab-badge.svg\" alt=\"Open In Colab\"/></a>"
      ]
    },
    {
      "cell_type": "markdown",
      "source": [
        "# Regresión funcional: Minimos cuadrados para ajustes que son sumas de funciones\n",
        "\n",
        "\n",
        "Dados un conjunto de datos $(x_1,y_1),\\dots,(x_N,y_N)$ Buscamos un ajuste de la forma:\n",
        "\n",
        "$$\n",
        "f(x) = \\alpha_1\\phi_1(x) +\\alpha_2\\phi_2(x) +\\dots +\\alpha_m\\phi_m(x)\n",
        "$$\n",
        "\n",
        "donde las funciones $\\phi_1,\\dots,\\phi_m$ son dadas (conocidas) y los coeficientes $\\alpha_1,\\dots,\\alpha_m$ se determinan a partir de minimos cuadrados. Es decir, para el conjunto de datos dado y las funciones, los valores óptimos de los coeficientes se encuentran como:\n",
        "\n",
        "$$\n",
        "(\\alpha_1^*,\\dots,\\alpha_m^{*} )= \\arg\\min_{\\alpha_1,\\dots,\\alpha_m\\in R} \\sum_{i=1}^N \\left[y_i - (\\alpha_1\\phi_1(x_i) + \\alpha_2\\phi_2(x_i) +\\dots +\\alpha_m\\phi_m(x_i))\\right]^2\n",
        "$$\n",
        "\n",
        "\n",
        "\n",
        "\n",
        "como antes, se tienen las ecuaciones normales para calcular los coneficientes en términos de los datos:\n",
        "\n",
        "$$\n",
        "\\begin{bmatrix}\n",
        "\\alpha_1^* \\\\ \\alpha_2^* \\\\ \\vdots \\\\ \\alpha_m^*\n",
        "\\end{bmatrix} = (\\Phi^T \\Phi)^{-1}(\\Phi^T {\\bf y})\n",
        "$$\n",
        "\n",
        "donde:\n",
        "\n",
        "$$\n",
        "\\Phi =\\begin{bmatrix}\n",
        "\\phi_1(x_1) & \\phi_2(x_1) & \\phi_3(x_1) & \\cdots & \\phi_m(x_1)\\\\\n",
        "\\phi_1(x_2) & \\phi_2(x_2) & \\phi_3(x_2) & \\cdots & \\phi_m(x_2)\\\\\n",
        "\\phi_1(x_3) & \\phi_2(x_3) & \\phi_3(x_3) & \\cdots & \\phi_m(x_3)\\\\\n",
        "\\vdots      &  \\vdots     &   \\vdots    & \\ddots & \\vdots \\\\\n",
        "\\phi_1(x_N) & \\phi_2(x_N) & \\phi_3(x_N) & \\cdots & \\phi_m(x_N)\n",
        "\\end{bmatrix} \\qquad {\\bf y} = \\begin{bmatrix} y_1 \\\\ y_2 \\\\ y_3 \\\\ \\vdots \\\\ y_N \\end{bmatrix}\n",
        "$$"
      ],
      "metadata": {
        "id": "Tun2osPTK9H9"
      }
    },
    {
      "cell_type": "markdown",
      "source": [
        "## Ejercicio 12:\n",
        "\n",
        "Implementar una función que reciba como input dos vectores $x$ e $y$ y una lista de funciones y devuelva los coeficientes de la combinación lineal de las funciones que mejor ajuste los datos en el sentido de cuadrados mínimos."
      ],
      "metadata": {
        "id": "xgW9re12rKdQ"
      }
    },
    {
      "cell_type": "code",
      "source": [
        "import numpy as np\n",
        "import matplotlib.pyplot as plt"
      ],
      "metadata": {
        "id": "PLYHucQNRxtZ"
      },
      "execution_count": null,
      "outputs": []
    },
    {
      "cell_type": "code",
      "source": [
        "def reg_funcional(x, y, funciones):\n",
        "\n",
        "  \"\"\"\n",
        "  esta funcion calcula la mejor regresion de la forma a_1 h_1(x) + a_2*h2(x) +a_3h_3(x) + ... +a_m*h_m(x)\n",
        "  \"\"\"\n",
        "\n",
        "  m = len(funciones)  #cantidad de funciones a usar\n",
        "  N = len(x)          # cantidad de observaciones\n",
        "\n",
        "  Phi = np.zeros((N, m))\n",
        "  \n",
        "\n",
        "  for j in range(m):\n",
        "\n",
        "    Phi[:, j] = funciones[j](x)\n",
        "\n",
        "  coefs = np.linalg.solve(Phi.T @ Phi, np.dot(Phi.T , y))  # la componente 0 es el termino idependiente en caso de que phi_0 =1\n",
        "\n",
        "  return coefs\n",
        "  \n",
        "\n",
        "\n",
        "\n"
      ],
      "metadata": {
        "id": "riuvfLmeqkUu"
      },
      "execution_count": null,
      "outputs": []
    },
    {
      "cell_type": "markdown",
      "source": [
        "## Ejemplo: \n",
        "\n",
        "Dados los datos:\n",
        "\n",
        "$$\n",
        "\\begin{array}{l c c c c c c c c c c c c}\\\\\n",
        "x & 8 & 15 &  6 &  9 & 17 & 12 &  4 &  3 & 14 & 20 & 18 &  2\\\\\n",
        "y &  19.59 & 41.06 & 17 & 23.64 & 50.47 & 34.68 & 10.9 &  4.52 & 37.84 & 55.98 & 54.03 &  1.27\n",
        "\\end{array}\n",
        "$$\n",
        "\n",
        "\n",
        "con una funcion del tipo $$f(x) = \\alpha_1 + \\alpha_2x \n",
        "+ \\alpha_3\\cos\\left( \\frac{\\pi}{3} x \\right)\n",
        "+ \\alpha_4\\sin\\left( \\frac{\\pi}{3} x\\right)$$ \n",
        "\n",
        "\n",
        "* Usar el metodo de minimos cuadrados para hacer este ajuste.\n",
        "\t\n",
        "* Graficar simultaneamente los datos de la tabla y la funcion obtenida."
      ],
      "metadata": {
        "id": "hvKPCS6NPPVM"
      }
    },
    {
      "cell_type": "code",
      "source": [
        "x = np.array([8 , 15 ,  6 ,  9 , 17 , 12 ,  4 ,  3 , 14 , 20 , 18 ,  2])\n",
        "y = np.array([19.59 , 41.06 , 17 , 23.64 , 50.47 , 34.68 , 10.9 ,  4.52 , 37.84 , 55.98 , 54.03 ,  1.27])\n"
      ],
      "metadata": {
        "id": "GjAC1LrBRcI7"
      },
      "execution_count": null,
      "outputs": []
    },
    {
      "cell_type": "code",
      "source": [
        "f1 = lambda x: 1\n",
        "f2 = lambda x: x\n",
        "f3 = lambda x: np.cos(np.pi/3 * x)\n",
        "f4 = lambda x: np.sin(np.pi/3 * x)\n",
        "\n",
        "\n",
        "funciones = [f1, f2,f3, f4]\n",
        "\n",
        "\n",
        "[a1, a2, a3, a4] = reg_funcional(x, y, funciones)"
      ],
      "metadata": {
        "id": "oWgXB0edSbmw"
      },
      "execution_count": null,
      "outputs": []
    },
    {
      "cell_type": "code",
      "source": [
        "print(\"los coeficientes son: a1 = \", a1, \"a2 = \" ,a2, \"a3 = \", a3, \"a4 = \", a4)"
      ],
      "metadata": {
        "colab": {
          "base_uri": "https://localhost:8080/"
        },
        "id": "dv-XXh6gS1jw",
        "outputId": "6139aec9-f4c7-4e23-b0ec-bb02f0ef43a6"
      },
      "execution_count": null,
      "outputs": [
        {
          "output_type": "stream",
          "name": "stdout",
          "text": [
            "los coeficientes son: a1 =  -2.6015166106054934 a2 =  3.0298075139014555 a3 =  1.4197369394596573 a4 =  -1.603699245462579\n"
          ]
        }
      ]
    },
    {
      "cell_type": "code",
      "source": [
        "f = lambda x: a1* f1(x) + a2* f2(x) + a3 * f3(x) + a4* f4(x)"
      ],
      "metadata": {
        "id": "agdpvZKSzYQK"
      },
      "execution_count": null,
      "outputs": []
    },
    {
      "cell_type": "code",
      "source": [
        "# ploteamos datos y ajuste:\n",
        "\n",
        "grilla = np.linspace(0, 20, 100)\n",
        "\n",
        "plt.plot(x, y, \".\", label = \"datos\")\n",
        "plt.plot(grilla, f(grilla), label = \"ajuste\")\n",
        "plt.legend()\n",
        "plt.show()\n"
      ],
      "metadata": {
        "colab": {
          "base_uri": "https://localhost:8080/",
          "height": 430
        },
        "id": "sJ0Qh04c1cuF",
        "outputId": "4c0f7dbc-2900-4a70-f0f5-bd74610453e5"
      },
      "execution_count": null,
      "outputs": [
        {
          "output_type": "display_data",
          "data": {
            "text/plain": [
              "<Figure size 640x480 with 1 Axes>"
            ],
            "image/png": "[encoded data removed]"
          },
          "metadata": {}
        }
      ]
    },
    {
      "cell_type": "markdown",
      "source": [
        "Bondad del ajuste: la medimos con el $R^2$:"
      ],
      "metadata": {
        "id": "32w-fxtW2HhG"
      }
    },
    {
      "cell_type": "code",
      "source": [
        "def R2(f, x,y):\n",
        "\n",
        "  \"\"\"\n",
        "  Esta funcion calcula el r^2 de la regresion lineal dados los datos x, y\n",
        "  \"\"\"\n",
        "  \n",
        "  y_predicho = f(x)\n",
        "  avg_y = np.mean(y)\n",
        "\n",
        "  numerador = np.sum((y_predicho - avg_y)**2)\n",
        "  denominador = np.sum((y - avg_y)**2)\n",
        "\n",
        "  return numerador/denominador"
      ],
      "metadata": {
        "id": "tBBCjncUzGj5"
      },
      "execution_count": null,
      "outputs": []
    },
    {
      "cell_type": "code",
      "source": [
        "R2(f, x, y)"
      ],
      "metadata": {
        "colab": {
          "base_uri": "https://localhost:8080/"
        },
        "id": "6Td75yrFzWWu",
        "outputId": "49dbad52-6a6e-4c12-f2da-2b9e9c374cb6"
      },
      "execution_count": null,
      "outputs": [
        {
          "output_type": "execute_result",
          "data": {
            "text/plain": [
              "0.9994777935548501"
            ]
          },
          "metadata": {},
          "execution_count": 31
        }
      ]
    },
    {
      "cell_type": "markdown",
      "source": [
        "### Ejercicio: resolver el problema 13 practica 5"
      ],
      "metadata": {
        "id": "K9fsA99Ozz3B"
      }
    },
    {
      "cell_type": "markdown",
      "source": [
        "## Regresion polinomial:\n",
        "Un caso particular de lo anterior es cuando:\n",
        "\n",
        "$$\n",
        "\\phi_0(x) =1,\\quad \\phi_1(x) = x, \\quad \\phi_2(x) =x^2,\\dots, \\phi_m(x)=x^m\n",
        "$$\n",
        "\n",
        "en dicho caso la funcion de ajuste es de la forma:\n",
        "$$\n",
        "f(x) = \\alpha_0 +\\alpha_1 x +\\alpha_2 x^2 +\\dots +\\alpha_m x^m\n",
        "$$\n",
        "\n",
        "y se llama una regresion polinomial.\n",
        "\n"
      ],
      "metadata": {
        "id": "MMaDWMCC0Gh7"
      }
    },
    {
      "cell_type": "markdown",
      "source": [
        "### Ejemplo:\n",
        "\n",
        "Para los datos\n",
        "\n",
        "$$\n",
        "\\begin{array}{l c c c c c c c c c c c c}\n",
        "x & 1.4 & 2.8 & 1.0 & 1.6 & 3.4 & 2.2 & 0.6 & 0.4 & 2.4 & 3.8 & 4.0 & 3.6\\\\\n",
        "y & -0.86 & -17.54 &  1.36 &   0.52 & -43.22 & -6.03 & 3.89 & 1.70 &  -7.61 & -72.19 & -91.51 & -57.47\n",
        "\\end{array}\n",
        "$$\n",
        "\n",
        "\n",
        "\n",
        "Hallar un ajuste polinomial de grado 4 de la forma \n",
        "\n",
        "$$\n",
        "f(x) =\\alpha_0 + \\alpha_1 x+\\alpha_2x^2+\\alpha_3x^3 +\\alpha_4 x^4\n",
        "$$"
      ],
      "metadata": {
        "id": "stuZM64407w8"
      }
    },
    {
      "cell_type": "code",
      "source": [
        "x = np.array([1.4, 2.8, 1.0, 1.6, 3.4, 2.2, 0.6, 0.4, 2.4, 3.8, 4.0, 3.6])\n",
        "\n",
        "y = np.array([ -0.86, -17.54,   1.36,   0.52, -43.22,  -6.03,   3.89,   1.70,  -7.61, -72.19, -91.51, -57.47])"
      ],
      "metadata": {
        "id": "yACoJdavznWU"
      },
      "execution_count": null,
      "outputs": []
    },
    {
      "cell_type": "code",
      "source": [
        "f0 = lambda x: 1\n",
        "f1 = lambda x: x\n",
        "f2 = lambda x: x**2\n",
        "f3 = lambda x: x**3\n",
        "f4 = lambda x: x**4\n",
        "\n",
        "funciones = [f0, f1, f2, f3, f4]\n",
        "\n",
        "[a0,a1,a2,a3,a4] = reg_funcional(x, y, funciones)\n",
        "\n",
        "print(\"los coeficientes son en orden ascendiente del grado: \", a0, a1, a2, a3, a4)"
      ],
      "metadata": {
        "colab": {
          "base_uri": "https://localhost:8080/"
        },
        "id": "Lb_IAH4v312o",
        "outputId": "a886b4e4-b7b7-44b6-9571-5a660f049849"
      },
      "execution_count": null,
      "outputs": [
        {
          "output_type": "stream",
          "name": "stdout",
          "text": [
            "los coeficientes son en orden ascendiente del grado:  2.769480221276939 0.5934075230781792 -3.1509624639890257 2.093397242666852 -0.704453798873898\n"
          ]
        }
      ]
    },
    {
      "cell_type": "code",
      "source": [
        "# para ver la funcion de ajuste como un objeto polinomio de numpy ordenamos los coeficientes en orden descendiente del grado:\n",
        "\n",
        "coeffs = [a0,a1,a2,a3,a4][::-1]\n",
        "\n",
        "print(coeffs)"
      ],
      "metadata": {
        "colab": {
          "base_uri": "https://localhost:8080/"
        },
        "id": "kRFbnR3J4fwu",
        "outputId": "23352001-020d-43fc-aa8c-2d970d7306d2"
      },
      "execution_count": null,
      "outputs": [
        {
          "output_type": "stream",
          "name": "stdout",
          "text": [
            "[-0.704453798873898, 2.093397242666852, -3.1509624639890257, 0.5934075230781792, 2.769480221276939]\n"
          ]
        }
      ]
    },
    {
      "cell_type": "code",
      "source": [
        "#la fucnion de ajuste definidad como un polinomio es:\n",
        "\n",
        "f = np.poly1d(coeffs)\n",
        "\n",
        "print(f)"
      ],
      "metadata": {
        "colab": {
          "base_uri": "https://localhost:8080/"
        },
        "id": "hI1b4fr_5D1Y",
        "outputId": "500b4543-4629-40df-a332-f79461470692"
      },
      "execution_count": null,
      "outputs": [
        {
          "output_type": "stream",
          "name": "stdout",
          "text": [
            "         4         3         2\n",
            "-0.7045 x + 2.093 x - 3.151 x + 0.5934 x + 2.769\n"
          ]
        }
      ]
    },
    {
      "cell_type": "code",
      "source": [
        "# ploteemos los datos y el polinomio ajustado\n",
        "\n",
        "grilla = np.linspace(-0.5, 5, 100)\n",
        "\n",
        "plt.plot(x, y, \".\", label = \"datos\")\n",
        "plt.plot(grilla, f(grilla), label = \"ajuste\")\n",
        "plt.legend()\n",
        "plt.show()"
      ],
      "metadata": {
        "colab": {
          "base_uri": "https://localhost:8080/",
          "height": 430
        },
        "id": "v-aKrP4E5R05",
        "outputId": "1d1b0202-5a96-43a9-b67b-1afdeee3222d"
      },
      "execution_count": null,
      "outputs": [
        {
          "output_type": "display_data",
          "data": {
            "text/plain": [
              "<Figure size 640x480 with 1 Axes>"
            ],
            "image/png": "[encoded data removed]"
          },
          "metadata": {}
        }
      ]
    },
    {
      "cell_type": "markdown",
      "source": [
        "## Funcion Regresion Polinomial\n",
        "\n",
        "Definamos uns funcion de regresion polinomial, de esta forma no tenemos que ingresar la lista de funciones $[1, x, x^2,\\dots,, x^n]$ a la rutina ``` reg_funcional```\n",
        "\n",
        "Esta funcion recibe como inputs los datos $x,y$ y el grado del polinomio que queremos ajustar por minimos cuadrados:\n",
        "\n",
        "$$\n",
        "f(x) = a_0 +a_1x +a_2x^2 +\\dots +a_mx^m\n",
        "$$\n",
        "\n",
        "las ecuaciones normales que determinan los coeficientes $a_0,\\dots, a_m$ son:\n",
        "\n",
        "$$\n",
        "X^TX \\begin{bmatrix} a_0 \\\\ a_1 \\\\ \\vdots \\\\ a_m \\end{bmatrix} = X^T{\\bf y}\n",
        "$$\n",
        "\n",
        "donde \n",
        "\n",
        "$$X = \\begin{bmatrix} \n",
        "1 & x_1 & x_1^2 & \\cdots & x_1^m\\\\\n",
        "1 & x_2 & x_2^2 & \\cdots & x_2^m\\\\\n",
        "1 & x_3 & x_3^2 & \\cdots & x_3^m\\\\\n",
        "\\vdots  &\\vdots & \\vdots & \\vdots & \\vdots \\\\\n",
        "1 & x_N & x_N^2 & \\cdots & x_N^m\n",
        "\\end{bmatrix}  \\qquad {\\bf y} = \\begin{bmatrix} y_1 \\\\ y_2 \\\\ y_3 \\\\ \\vdots \\\\ y_N \\end{bmatrix}\n",
        "$$\n",
        "\n",
        "\n"
      ],
      "metadata": {
        "id": "XM-8pWkGKQSK"
      }
    },
    {
      "cell_type": "markdown",
      "source": [],
      "metadata": {
        "id": "phlN9mXXLdeC"
      }
    },
    {
      "cell_type": "code",
      "source": [
        "def reg_polinomial(x, y, m):\n",
        "\n",
        "  \"\"\"\n",
        "  esta fucnion devuelve el polinomio de grado m de minimos cuadrados.\n",
        "  \"\"\"\n",
        "  N = len(x)  # cuantos datos tenemos para ajustar\n",
        "  X = np.ones((N, m+1))  \n",
        "  X[:, 1] = x\n",
        "\n",
        "  for j in range(2, m+1):\n",
        "    X[:, j] = x**j\n",
        "\n",
        "  \n",
        "  coefs = np.linalg.solve(X.T @ X, np.dot(X.T, y ))\n",
        "\n",
        "  coefs = coefs[::-1]  # revierte el orden  de coeficientes de mayor grado a menor\n",
        "\n",
        "  f = np.poly1d(coefs)\n",
        "\n",
        "  return f\n"
      ],
      "metadata": {
        "id": "shbmQuUMO1x1"
      },
      "execution_count": null,
      "outputs": []
    },
    {
      "cell_type": "code",
      "source": [
        "# resolvamos el mismo ejemplo usando esta rutina:\n",
        "\n",
        "x = np.array([1.4, 2.8, 1.0, 1.6, 3.4, 2.2, 0.6, 0.4, 2.4, 3.8, 4.0, 3.6])\n",
        "\n",
        "y = np.array([ -0.86, -17.54,   1.36,   0.52, -43.22,  -6.03,   3.89,   1.70,  -7.61, -72.19, -91.51, -57.47])\n",
        "\n",
        "m = 4\n",
        "\n",
        "f = reg_polinomial(x, y, n)\n",
        "print(f)"
      ],
      "metadata": {
        "colab": {
          "base_uri": "https://localhost:8080/"
        },
        "id": "FNYDvTVANj8C",
        "outputId": "465b4baa-d4ab-41c6-fae4-05e770f0de41"
      },
      "execution_count": null,
      "outputs": [
        {
          "output_type": "stream",
          "name": "stdout",
          "text": [
            "         4         3         2\n",
            "-0.7045 x + 2.093 x - 3.151 x + 0.5934 x + 2.769\n"
          ]
        }
      ]
    },
    {
      "cell_type": "code",
      "source": [],
      "metadata": {
        "id": "0NqzIHLbN3Rc"
      },
      "execution_count": null,
      "outputs": []
    }
  ]
}