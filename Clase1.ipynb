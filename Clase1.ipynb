{
  "cells": [
    {
      "cell_type": "markdown",
      "metadata": {
        "id": "view-in-github",
        "colab_type": "text"
      },
      "source": [
        "<a href=\"https://colab.research.google.com/github/binaria010/Control-for-Spacecraft-Attitude-Motion/blob/master/Clase1.ipynb\" target=\"_parent\"><img src=\"https://colab.research.google.com/assets/colab-badge.svg\" alt=\"Open In Colab\"/></a>"
      ]
    },
    {
      "cell_type": "markdown",
      "metadata": {
        "id": "7P8DsErVkeiZ"
      },
      "source": [
        "# Clase 1: práctica 0:\n",
        "\n",
        "1. Vemos un poco sobre acotacións de funciones\n",
        "2. Intro a python: \n",
        "    1. usar python como calculadora, \n",
        "    2. declarar variables, \n",
        "    3. importar librerías: numpy, matplotlib y hacemos graficos\n",
        "    4. acumulación de errores"
      ]
    },
    {
      "cell_type": "markdown",
      "metadata": {
        "id": "ETxykYO8keid"
      },
      "source": [
        "## Python como calculadora:\n",
        "\n",
        "Calculemos\n",
        "\n",
        "$$\n",
        "3 -2,  \\quad 4\\times 5, \\qquad 2^4\n",
        "$$\n",
        "\n"
      ]
    },
    {
      "cell_type": "code",
      "execution_count": null,
      "metadata": {
        "id": "tAImzBSFkeid"
      },
      "outputs": [],
      "source": []
    },
    {
      "cell_type": "markdown",
      "metadata": {
        "id": "2R8j4t2mkeie"
      },
      "source": [
        "y como calcularíamos $\\sin(2\\pi/3)$????"
      ]
    },
    {
      "cell_type": "code",
      "execution_count": null,
      "metadata": {
        "id": "6kpizoohkeie"
      },
      "outputs": [],
      "source": [
        "a =50"
      ]
    },
    {
      "cell_type": "markdown",
      "metadata": {
        "id": "QGU9X2yIkeif"
      },
      "source": [
        "## Declarar variables:\n",
        "\n",
        "$a=50$, y calcular \n",
        "$a\\times 3$. \n",
        "\n",
        "Calcular \n",
        "$b=4+a$, \n",
        "$c=b^2$, \n",
        "$d=c-85$, $e=d+a$, $f=d-a$, $g=f+e$, $h=g-b$."
      ]
    },
    {
      "cell_type": "markdown",
      "metadata": {
        "id": "_JiCeFV3keif"
      },
      "source": []
    },
    {
      "cell_type": "markdown",
      "metadata": {
        "id": "CfIyBesakeif"
      },
      "source": [
        "Calcular $4^{100}$ y $4.0^{100}$. Calcular $3/2$ (y $3//2$ y $3 \\%2$).\n"
      ]
    },
    {
      "cell_type": "code",
      "execution_count": null,
      "metadata": {
        "colab": {
          "base_uri": "https://localhost:8080/"
        },
        "id": "6uT0CESVkeig",
        "outputId": "30943e59-3b61-4549-f06d-5c57e22028d4"
      },
      "outputs": [
        {
          "name": "stdout",
          "output_type": "stream",
          "text": [
            "<class 'int'> el resultado es:  1606938044258990275541962092341162602522202993782792835301376\n",
            "<class 'float'> el resultado es:  1.6069380442589903e+60\n"
          ]
        }
      ],
      "source": [
        "print(type(4**100), \"el resultado es: \", 4**100)\n",
        "print(type(4**100.0), \"el resultado es: \", 4**100.0)"
      ]
    },
    {
      "cell_type": "markdown",
      "metadata": {
        "id": "tMCpSIAOkeig"
      },
      "source": [
        "## Strings:\n",
        "\n",
        "guardar en $a$ la palabra <em>Hello</em> y en $b$ la palabra <em>World</em>\n",
        "\n",
        "Calcular $a+b$ y pedirle a python que lo imprima:"
      ]
    },
    {
      "cell_type": "code",
      "execution_count": null,
      "metadata": {
        "id": "QzbLXXjwkeig"
      },
      "outputs": [],
      "source": []
    },
    {
      "cell_type": "markdown",
      "metadata": {
        "id": "d6cWU6F_keig"
      },
      "source": [
        "## Importar librerias:\n",
        "\n",
        "numpy: The queen!"
      ]
    },
    {
      "cell_type": "code",
      "execution_count": null,
      "metadata": {
        "id": "AWUbSH97keih"
      },
      "outputs": [],
      "source": [
        "import numpy as np"
      ]
    },
    {
      "cell_type": "code",
      "execution_count": null,
      "metadata": {
        "colab": {
          "base_uri": "https://localhost:8080/"
        },
        "id": "SixfZE0Hkeih",
        "outputId": "293c2a97-6e4f-42b8-bc72-70e19f23aca8"
      },
      "outputs": [
        {
          "name": "stdout",
          "output_type": "stream",
          "text": [
            "[-1.          3.         12.5         3.14159265]\n",
            "[ 0.          4.         13.5         4.14159265]\n",
            "[-2.          6.         25.          6.28318531]\n",
            "[  1.          9.        156.25        9.8696044]\n",
            "-1.0\n",
            "3.0\n",
            "12.5\n"
          ]
        }
      ],
      "source": [
        "x = np.array([-1, 3, 12.5, np.pi])\n",
        "print(x)\n",
        "print(x+1)\n",
        "print(x*2)\n",
        "print(x**2)\n",
        "print(x[0])\n",
        "print(x[1])\n",
        "print(x[2])"
      ]
    },
    {
      "cell_type": "markdown",
      "metadata": {
        "id": "iPdjkW8vkog9"
      },
      "source": [
        "Arrays utiles:"
      ]
    },
    {
      "cell_type": "code",
      "execution_count": null,
      "metadata": {
        "colab": {
          "base_uri": "https://localhost:8080/"
        },
        "id": "C95GPucakeii",
        "outputId": "21ed9de5-6431-48d4-8f65-45a1d693b995"
      },
      "outputs": [
        {
          "name": "stdout",
          "output_type": "stream",
          "text": [
            "[0. 1. 2. 3. 4. 5.]\n",
            "[0.   0.01 0.02 0.03 0.04 0.05 0.06 0.07 0.08 0.09 0.1  0.11 0.12 0.13\n",
            " 0.14 0.15 0.16 0.17 0.18 0.19 0.2  0.21 0.22 0.23 0.24 0.25 0.26 0.27\n",
            " 0.28 0.29 0.3  0.31 0.32 0.33 0.34 0.35 0.36 0.37 0.38 0.39 0.4  0.41\n",
            " 0.42 0.43 0.44 0.45 0.46 0.47 0.48 0.49 0.5  0.51 0.52 0.53 0.54 0.55\n",
            " 0.56 0.57 0.58 0.59 0.6  0.61 0.62 0.63 0.64 0.65 0.66 0.67 0.68 0.69\n",
            " 0.7  0.71 0.72 0.73 0.74 0.75 0.76 0.77 0.78 0.79 0.8  0.81 0.82 0.83\n",
            " 0.84 0.85 0.86 0.87 0.88 0.89 0.9  0.91 0.92 0.93 0.94 0.95 0.96 0.97\n",
            " 0.98 0.99 1.  ]\n"
          ]
        }
      ],
      "source": [
        "a = np.linspace(0,5,6)\n",
        "print(a)\n",
        "b = np.linspace(0,1,101) \n",
        "print(b)\n"
      ]
    },
    {
      "cell_type": "markdown",
      "metadata": {
        "id": "uInEn7jVlJy2"
      },
      "source": [
        "The king: matplotlib"
      ]
    },
    {
      "cell_type": "code",
      "execution_count": null,
      "metadata": {
        "id": "ZpDNx8rfkxmC"
      },
      "outputs": [],
      "source": [
        "import matplotlib.pyplot as plt"
      ]
    },
    {
      "cell_type": "markdown",
      "metadata": {
        "id": "GdxH05FZhbbN"
      },
      "source": [
        " Ploteomeos el polinomio de recien:"
      ]
    },
    {
      "cell_type": "code",
      "execution_count": null,
      "metadata": {
        "colab": {
          "base_uri": "https://localhost:8080/",
          "height": 378
        },
        "collapsed": true,
        "id": "yeCEU6edlRt8",
        "outputId": "8040c410-01e0-4fc9-c804-a4c996c0cada"
      },
      "outputs": [
        {
          "data": {
            "image/png": "[encoded data removed]",
            "text/plain": [
              "<Figure size 1000x600 with 1 Axes>"
            ]
          },
          "metadata": {},
          "output_type": "display_data"
        }
      ],
      "source": [
        "#@title\n",
        "x = np.linspace(-3, 4, 1000)\n",
        "y = x**3 + 1.5*x**2 -6*x\n",
        "\n",
        "plt.figure(figsize = (10, 6))\n",
        "plt.plot(x, y, color = \"red\")\n",
        "plt.ylim(-10, 80)\n",
        "plt.show()\n"
      ]
    },
    {
      "cell_type": "markdown",
      "metadata": {
        "id": "ak5kDufpht4L"
      },
      "source": [
        "El polinomio y su derivada\n"
      ]
    },
    {
      "cell_type": "code",
      "execution_count": null,
      "metadata": {
        "colab": {
          "base_uri": "https://localhost:8080/",
          "height": 378
        },
        "id": "9l9bAIboe17A",
        "outputId": "1a80520b-2319-41b7-90d7-b6d534f69b7f"
      },
      "outputs": [
        {
          "data": {
            "image/png": "[encoded data removed]",
            "text/plain": [
              "<Figure size 720x432 with 1 Axes>"
            ]
          },
          "metadata": {
            "needs_background": "light"
          },
          "output_type": "display_data"
        }
      ],
      "source": [
        "x = np.linspace(-3, 4, 100)\n",
        "y = x**3 + 1.5*x**2 -6*x\n",
        "y_prime = 3*x**2 +3*x - 6\n",
        "\n",
        "plt.figure(figsize = (10, 6))\n",
        "plt.plot(x, y, color = \"red\", label= \"poli\")\n",
        "plt.plot(x, y_prime, color = \"blue\", label = \"derivada\")\n",
        "plt.ylim(-10, 80)\n",
        "plt.legend()\n",
        "plt.show()\n"
      ]
    },
    {
      "cell_type": "markdown",
      "metadata": {
        "id": "GG7bIsSqLdJp"
      },
      "source": [
        "## Acumulacion de errores"
      ]
    },
    {
      "cell_type": "code",
      "execution_count": null,
      "metadata": {
        "id": "GWe-uBpzLRy3"
      },
      "outputs": [],
      "source": [
        "x = np.sqrt(2)\n",
        "print(x)"
      ]
    },
    {
      "cell_type": "code",
      "execution_count": null,
      "metadata": {
        "id": "X_wxmBntLRy4",
        "outputId": "9ae072a3-0407-4bc1-ae89-d18142d7ddc2"
      },
      "outputs": [
        {
          "name": "stdout",
          "output_type": "stream",
          "text": [
            "cuando i = 5x =  1.4142135623730978\n",
            "cuando i = 10x =  1.4142135623731837\n",
            "cuando i = 15x =  1.4142135623759302\n",
            "cuando i = 20x =  1.414213562463817\n",
            "cuando i = 25x =  1.4142135652761954\n",
            "cuando i = 30x =  1.414213655272305\n",
            "cuando i = 35x =  1.4142165351508367\n",
            "cuando i = 40x =  1.4143086943603853\n",
            "cuando i = 45x =  1.4172609621968253\n",
            "cuando i = 50x =  1.5150587093244452\n",
            "cuando i = 55x =  12.81674845920085\n",
            "cuando i = 60x =  6.066338189441368e+30\n",
            "6.066338189441368e+30\n"
          ]
        }
      ],
      "source": [
        "x = np.sqrt(2)\n",
        "for i in range(1,61):\n",
        "    x = x * x / np.sqrt(2)\n",
        "    if i % 5 == 0:\n",
        "        print(\"cuando i = \" + str(i) + \"x = \" ,x)\n",
        "\n",
        "\n",
        "print(x)\n"
      ]
    },
    {
      "cell_type": "markdown",
      "metadata": {
        "id": "skWykmOKeiAj"
      },
      "source": [
        "## Tarea:\n",
        "\n",
        "### Mirar las siguientes estructuras de control (for, while, if)"
      ]
    },
    {
      "cell_type": "code",
      "execution_count": null,
      "metadata": {
        "id": "wf2zfpYoeiAj"
      },
      "outputs": [],
      "source": [
        "for i in range(5):\n",
        "    print(i)"
      ]
    },
    {
      "cell_type": "code",
      "execution_count": null,
      "metadata": {
        "id": "vU4PCKO0eiAj"
      },
      "outputs": [],
      "source": [
        "i = 0\n",
        "while i <= 4:\n",
        "    print(i)\n",
        "    i = i+1 "
      ]
    },
    {
      "cell_type": "code",
      "execution_count": null,
      "metadata": {
        "id": "9Ihz3DqMeiAk"
      },
      "outputs": [],
      "source": [
        "i = 0\n",
        "for i in range(100):\n",
        "    if i <= 4:\n",
        "        print(i)\n",
        "    else:\n",
        "        break"
      ]
    },
    {
      "cell_type": "markdown",
      "metadata": {
        "id": "phtOHzxHeiAk"
      },
      "source": [
        "Mirar, por ejemplo, en www.sololearn.com"
      ]
    }
  ],
  "metadata": {
    "colab": {
      "provenance": [],
      "include_colab_link": true
    },
    "kernelspec": {
      "display_name": "MateIIB",
      "language": "python",
      "name": "python3"
    },
    "language_info": {
      "codemirror_mode": {
        "name": "ipython",
        "version": 3
      },
      "file_extension": ".py",
      "mimetype": "text/x-python",
      "name": "python",
      "nbconvert_exporter": "python",
      "pygments_lexer": "ipython3",
      "version": "3.10.9"
    },
    "orig_nbformat": 4
  },
  "nbformat": 4,
  "nbformat_minor": 0
}